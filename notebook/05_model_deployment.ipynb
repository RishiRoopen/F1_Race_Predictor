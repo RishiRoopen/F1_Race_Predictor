{
 "cells": [
  {
   "cell_type": "markdown",
   "id": "c8396351",
   "metadata": {},
   "source": [
    "## Imports & Paths"
   ]
  },
  {
   "cell_type": "code",
   "execution_count": 64,
   "id": "dac88bec",
   "metadata": {},
   "outputs": [],
   "source": [
    "#Imports\n",
    "import pandas as pd\n",
    "import numpy as np\n",
    "from sklearn.model_selection import train_test_split\n",
    "from sklearn.linear_model import LinearRegression\n",
    "from sklearn.ensemble import RandomForestRegressor\n",
    "from sklearn.metrics import mean_absolute_error, r2_score\n",
    "from sklearn.preprocessing import LabelEncoder\n",
    "import joblib\n",
    "import matplotlib.pyplot as plt\n",
    "\n",
    "#Paths\n",
    "processed_path = r\"C:\\UNI\\Code\\F1_Race_Predictor\\data\\processed\"\n",
    "models_path = r\"C:\\UNI\\Code\\F1_Race_Predictor\\models\"\n",
    "\n",
    "season = 2023\n",
    "gp = 'Mexico'\n"
   ]
  },
  {
   "cell_type": "markdown",
   "id": "3ede68be",
   "metadata": {},
   "source": [
    "## Load the Model"
   ]
  },
  {
   "cell_type": "code",
   "execution_count": 65,
   "id": "570169ae",
   "metadata": {},
   "outputs": [],
   "source": [
    "# Load saved model\n",
    "rf = joblib.load(fr\"{models_path}\\f1_race_position_predictor(2).pkl\")\n",
    "team_encoder = joblib.load(fr\"{models_path}\\label_encoder_TeamName.pkl\")\n",
    "gp_encoder = joblib.load(fr\"{models_path}\\label_encoder_GrandPrix.pkl\")\n",
    "\n",
    "# Load new qualifying data\n",
    "new_qual = pd.read_csv(fr\"{processed_path}\\{season}_{gp}_qualifying_clean.csv\")\n"
   ]
  },
  {
   "cell_type": "code",
   "execution_count": 66,
   "id": "69282982",
   "metadata": {},
   "outputs": [
    {
     "name": "stdout",
     "output_type": "stream",
     "text": [
      "['DriverNumber', 'BroadcastName', 'Abbreviation', 'DriverId', 'TeamName', 'TeamColor', 'TeamId', 'FirstName', 'LastName', 'FullName', 'HeadshotUrl', 'CountryCode', 'Position', 'ClassifiedPosition', 'GridPosition', 'Q1', 'Q2', 'Q3', 'Time', 'Status', 'Points', 'Laps', 'GrandPrix']\n"
     ]
    }
   ],
   "source": [
    "print(new_qual.columns.tolist())\n"
   ]
  },
  {
   "cell_type": "markdown",
   "id": "e9ef214e",
   "metadata": {},
   "source": [
    "## Feature Selection"
   ]
  },
  {
   "cell_type": "code",
   "execution_count": 67,
   "id": "c06a3baa",
   "metadata": {},
   "outputs": [],
   "source": [
    "# --- Prepare features (same as training) ---\n",
    "features = ['Position', 'TeamName', 'GrandPrix']\n",
    "\n",
    "# Check columns\n",
    "missing_cols = [f for f in features if f not in new_qual.columns]\n",
    "if missing_cols:\n",
    "    raise ValueError(f\"Missing columns in qualifying data: {missing_cols}\")\n",
    "\n",
    "# Prepare feature DataFrame\n",
    "X_new = new_qual[features].copy()\n",
    "\n",
    "# Fill missing Q2/Q3 values (for drivers eliminated early)\n",
    "for col in ['Q2', 'Q3']:\n",
    "    if col in X_new.columns:\n",
    "        X_new[col] = X_new[col].fillna(999.0)\n",
    "        "
   ]
  },
  {
   "cell_type": "markdown",
   "id": "cd4b3e4d",
   "metadata": {},
   "source": [
    "## Load Encodes"
   ]
  },
  {
   "cell_type": "code",
   "execution_count": 69,
   "id": "082ef44b",
   "metadata": {},
   "outputs": [],
   "source": [
    "def safe_transform(encoder, series):\n",
    "    known_classes = set(encoder.classes_)\n",
    "    transformed = []\n",
    "    for val in series:\n",
    "        if val in known_classes:\n",
    "            transformed.append(encoder.transform([val])[0])\n",
    "        else:\n",
    "            # unseen category — assign -1\n",
    "            transformed.append(-1)\n",
    "    return transformed\n",
    "\n",
    "# Use safe transform for both encoders\n",
    "X_new['TeamName'] = safe_transform(team_encoder, X_new['TeamName'])\n",
    "X_new['GrandPrix'] = safe_transform(gp_encoder, X_new['GrandPrix'])\n"
   ]
  },
  {
   "cell_type": "code",
   "execution_count": 70,
   "id": "369e10a8",
   "metadata": {},
   "outputs": [
    {
     "name": "stdout",
     "output_type": "stream",
     "text": [
      "['Position_qual' 'TeamName' 'GrandPrix']\n"
     ]
    }
   ],
   "source": [
    "print(rf.feature_names_in_)\n"
   ]
  },
  {
   "cell_type": "code",
   "execution_count": 71,
   "id": "16828261",
   "metadata": {},
   "outputs": [
    {
     "name": "stdout",
     "output_type": "stream",
     "text": [
      "            FullName         TeamName  Position  PredictedRacePosition\n",
      "3   Daniel Ricciardo       AlphaTauri       4.0                  5.110\n",
      "2     Max Verstappen  Red Bull Racing       3.0                  5.885\n",
      "0    Charles Leclerc          Ferrari       1.0                  6.450\n",
      "4       Sergio Perez  Red Bull Racing       5.0                  6.510\n",
      "5     Lewis Hamilton         Mercedes       6.0                  6.685\n",
      "1       Carlos Sainz          Ferrari       2.0                  7.310\n",
      "11   Nico Hulkenberg     Haas F1 Team      12.0                 10.745\n",
      "10      Pierre Gasly           Alpine      11.0                 11.765\n",
      "9        Guanyu Zhou       Alfa Romeo      10.0                 11.855\n",
      "6      Oscar Piastri          McLaren       7.0                 11.930\n",
      "19    Logan Sargeant         Williams      20.0                 12.180\n",
      "12   Fernando Alonso     Aston Martin      13.0                 12.440\n",
      "8    Valtteri Bottas       Alfa Romeo       9.0                 12.605\n",
      "16   Kevin Magnussen     Haas F1 Team      17.0                 13.045\n",
      "17      Lance Stroll     Aston Martin      18.0                 13.555\n",
      "18      Lando Norris          McLaren      19.0                 13.885\n",
      "14      Yuki Tsunoda       AlphaTauri      15.0                 13.920\n",
      "15      Esteban Ocon           Alpine      16.0                 14.135\n",
      "7     George Russell         Mercedes       8.0                 14.810\n",
      "13   Alexander Albon         Williams      14.0                 15.185\n"
     ]
    }
   ],
   "source": [
    "# Rename to match training\n",
    "X_new = X_new.rename(columns={\n",
    "    'Position': 'Position_qual',\n",
    "    })\n",
    "\n",
    "# --- Make predictions ---\n",
    "predictions = rf.predict(X_new)\n",
    "\n",
    "# --- Attach predictions to dataframe ---\n",
    "new_qual['PredictedRacePosition'] = predictions\n",
    "\n",
    "# --- Sort by predicted position (1 = best) ---\n",
    "new_qual = new_qual.sort_values(by='PredictedRacePosition', ascending=True)\n",
    "\n",
    "# --- Display top predicted finishers ---\n",
    "print(new_qual[['FullName', 'TeamName', 'Position', 'PredictedRacePosition']])"
   ]
  }
 ],
 "metadata": {
  "kernelspec": {
   "display_name": "base",
   "language": "python",
   "name": "python3"
  },
  "language_info": {
   "codemirror_mode": {
    "name": "ipython",
    "version": 3
   },
   "file_extension": ".py",
   "mimetype": "text/x-python",
   "name": "python",
   "nbconvert_exporter": "python",
   "pygments_lexer": "ipython3",
   "version": "3.12.9"
  }
 },
 "nbformat": 4,
 "nbformat_minor": 5
}
