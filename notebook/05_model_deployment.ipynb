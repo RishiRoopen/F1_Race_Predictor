{
 "cells": [
  {
   "cell_type": "markdown",
   "id": "c8396351",
   "metadata": {},
   "source": [
    "## Imports & Paths"
   ]
  },
  {
   "cell_type": "code",
   "execution_count": 10,
   "id": "dac88bec",
   "metadata": {},
   "outputs": [],
   "source": [
    "#Imports\n",
    "import pandas as pd\n",
    "import numpy as np\n",
    "from sklearn.model_selection import train_test_split\n",
    "from sklearn.linear_model import LinearRegression\n",
    "from sklearn.ensemble import RandomForestRegressor\n",
    "from sklearn.metrics import mean_absolute_error, r2_score\n",
    "from sklearn.preprocessing import LabelEncoder\n",
    "import joblib\n",
    "import matplotlib.pyplot as plt\n",
    "\n",
    "#Paths\n",
    "processed_path = r\"C:\\UNI\\Code\\F1_Race_Predictor\\data\\processed\"\n",
    "models_path = r\"C:\\UNI\\Code\\F1_Race_Predictor\\models\"\n",
    "\n",
    "season = 2023\n",
    "gp = 'Bahrain'\n"
   ]
  },
  {
   "cell_type": "markdown",
   "id": "3ede68be",
   "metadata": {},
   "source": [
    "## Load the Model"
   ]
  },
  {
   "cell_type": "code",
   "execution_count": 12,
   "id": "570169ae",
   "metadata": {},
   "outputs": [],
   "source": [
    "# Load saved model\n",
    "rf = joblib.load(fr\"{models_path}\\f1_race_position_predictor(2).pkl\")\n",
    "team_encoder = joblib.load(fr\"{models_path}\\label_encoder_TeamName.pkl\")\n",
    "gp_encoder = joblib.load(fr\"{models_path}\\label_encoder_GrandPrix.pkl\")\n",
    "\n",
    "# Load new qualifying data\n",
    "new_qual = pd.read_csv(fr\"{processed_path}\\{season}_{gp}_qualifying_clean.csv\")\n"
   ]
  },
  {
   "cell_type": "code",
   "execution_count": 6,
   "id": "69282982",
   "metadata": {},
   "outputs": [
    {
     "name": "stdout",
     "output_type": "stream",
     "text": [
      "['DriverNumber', 'BroadcastName', 'Abbreviation', 'DriverId', 'TeamName', 'TeamColor', 'TeamId', 'FirstName', 'LastName', 'FullName', 'HeadshotUrl', 'CountryCode', 'Position', 'ClassifiedPosition', 'GridPosition', 'Q1', 'Q2', 'Q3', 'Time', 'Status', 'Points', 'Laps', 'GrandPrix']\n"
     ]
    }
   ],
   "source": [
    "print(new_qual.columns.tolist())\n"
   ]
  },
  {
   "cell_type": "markdown",
   "id": "e9ef214e",
   "metadata": {},
   "source": [
    "## Feature Selection"
   ]
  },
  {
   "cell_type": "code",
   "execution_count": 21,
   "id": "c06a3baa",
   "metadata": {},
   "outputs": [],
   "source": [
    "# --- Prepare features (same as training) ---\n",
    "features = ['Position', 'TeamName', 'GrandPrix']\n",
    "\n",
    "# Check columns\n",
    "missing_cols = [f for f in features if f not in new_qual.columns]\n",
    "if missing_cols:\n",
    "    raise ValueError(f\"Missing columns in qualifying data: {missing_cols}\")\n",
    "\n",
    "# Prepare feature DataFrame\n",
    "X_new = new_qual[features].copy()\n",
    "\n",
    "# Fill missing Q2/Q3 values (for drivers eliminated early)\n",
    "for col in ['Q2', 'Q3']:\n",
    "    if col in X_new.columns:\n",
    "        X_new[col] = X_new[col].fillna(999.0)\n",
    "        "
   ]
  },
  {
   "cell_type": "markdown",
   "id": "cd4b3e4d",
   "metadata": {},
   "source": [
    "## Load Encodes"
   ]
  },
  {
   "cell_type": "code",
   "execution_count": 22,
   "id": "082ef44b",
   "metadata": {},
   "outputs": [],
   "source": [
    "X_new['TeamName'] = team_encoder.transform(X_new['TeamName'])\n",
    "X_new['GrandPrix'] = gp_encoder.transform(X_new['GrandPrix'])\n"
   ]
  },
  {
   "cell_type": "code",
   "execution_count": 23,
   "id": "369e10a8",
   "metadata": {},
   "outputs": [
    {
     "name": "stdout",
     "output_type": "stream",
     "text": [
      "['Position_qual' 'TeamName' 'GrandPrix']\n"
     ]
    }
   ],
   "source": [
    "print(rf.feature_names_in_)\n"
   ]
  },
  {
   "cell_type": "code",
   "execution_count": 24,
   "id": "16828261",
   "metadata": {},
   "outputs": [
    {
     "name": "stdout",
     "output_type": "stream",
     "text": [
      "           FullName         TeamName  Position  PredictedRacePosition\n",
      "0    Max Verstappen  Red Bull Racing       1.0                  1.150\n",
      "1      Sergio Perez  Red Bull Racing       2.0                  2.180\n",
      "4   Fernando Alonso     Aston Martin       5.0                  4.575\n",
      "3      Carlos Sainz          Ferrari       4.0                  6.020\n",
      "5    George Russell         Mercedes       6.0                  6.350\n",
      "6    Lewis Hamilton         Mercedes       7.0                  7.075\n",
      "7      Lance Stroll     Aston Martin       8.0                  7.705\n",
      "8      Esteban Ocon           Alpine       9.0                  9.940\n",
      "11  Valtteri Bottas       Alfa Romeo      12.0                 10.295\n",
      "14  Alexander Albon         Williams      15.0                 11.710\n",
      "19     Pierre Gasly           Alpine      20.0                 11.815\n",
      "9   Nico Hulkenberg     Haas F1 Team      10.0                 12.505\n",
      "13     Yuki Tsunoda       AlphaTauri      14.0                 12.670\n",
      "2   Charles Leclerc          Ferrari       3.0                 13.885\n",
      "10     Lando Norris          McLaren      11.0                 14.155\n",
      "12      Guanyu Zhou       Alfa Romeo      13.0                 14.165\n",
      "16  Kevin Magnussen     Haas F1 Team      17.0                 15.920\n",
      "15   Logan Sargeant         Williams      16.0                 15.955\n",
      "18    Nyck De Vries       AlphaTauri      19.0                 16.775\n",
      "17    Oscar Piastri          McLaren      18.0                 17.865\n"
     ]
    }
   ],
   "source": [
    "# Rename to match training\n",
    "X_new = X_new.rename(columns={\n",
    "    'Position': 'Position_qual',\n",
    "    })\n",
    "\n",
    "# --- Make predictions ---\n",
    "predictions = rf.predict(X_new)\n",
    "\n",
    "# --- Attach predictions to dataframe ---\n",
    "new_qual['PredictedRacePosition'] = predictions\n",
    "\n",
    "# --- Sort by predicted position (1 = best) ---\n",
    "new_qual = new_qual.sort_values(by='PredictedRacePosition', ascending=True)\n",
    "\n",
    "# --- Display top predicted finishers ---\n",
    "print(new_qual[['FullName', 'TeamName', 'Position', 'PredictedRacePosition']])"
   ]
  }
 ],
 "metadata": {
  "kernelspec": {
   "display_name": "base",
   "language": "python",
   "name": "python3"
  },
  "language_info": {
   "codemirror_mode": {
    "name": "ipython",
    "version": 3
   },
   "file_extension": ".py",
   "mimetype": "text/x-python",
   "name": "python",
   "nbconvert_exporter": "python",
   "pygments_lexer": "ipython3",
   "version": "3.12.9"
  }
 },
 "nbformat": 4,
 "nbformat_minor": 5
}
